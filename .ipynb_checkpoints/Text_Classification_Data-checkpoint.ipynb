{
 "cells": [
  {
   "cell_type": "markdown",
   "metadata": {},
   "source": [
    "# Text Classification on Song Lyrics"
   ]
  },
  {
   "cell_type": "markdown",
   "metadata": {},
   "source": [
    "%%%%%%%%%%%%%%%%%%%%%%%%%%%%%%%%%%%%%%%%%%%%%%%%%%%%%%%%%%%%%%%%%%%%%%%%%%%%%%%"
   ]
  },
  {
   "cell_type": "markdown",
   "metadata": {},
   "source": [
    "# Part I : Web Scraping & HTML Parsing"
   ]
  },
  {
   "cell_type": "markdown",
   "metadata": {},
   "source": [
    "## 1. Introduction"
   ]
  },
  {
   "cell_type": "markdown",
   "metadata": {},
   "source": [
    "This project aims at building a text classification model on song lyrics. The task is to predict the artist from song text. Training such a model requires first of all that we collect our own lyrics dataset. We will focus on two artist from the \"Heavy Metal\" genre: Ronnie James Dio (Dio) and Ozzy Osbourne (Ozzy).\n",
    "\n",
    "In this part of the project, we will make use of the website:  http://www.darklyrics.com for collecting the dataset. Through webscraping we will download for each artist a HTML page with links to his albums, from whch we will extract album hyperlinks by HTML parsing. Then, we can again download HTML pages for all the albums, extracting song lyrics from each one of them."
   ]
  },
  {
   "cell_type": "markdown",
   "metadata": {},
   "source": [
    "### 1.1 Load Packages"
   ]
  },
  {
   "cell_type": "code",
   "execution_count": 1,
   "metadata": {},
   "outputs": [],
   "source": [
    "# data processing libraries\n",
    "import numpy as np\n",
    "import pandas as pd"
   ]
  },
  {
   "cell_type": "code",
   "execution_count": 2,
   "metadata": {},
   "outputs": [],
   "source": [
    "# webscraping annd HTML parsing libraries\n",
    "import requests\n",
    "import re\n",
    "from bs4 import BeautifulSoup"
   ]
  },
  {
   "cell_type": "code",
   "execution_count": 3,
   "metadata": {},
   "outputs": [],
   "source": [
    "# other libraries\n",
    "import time"
   ]
  },
  {
   "cell_type": "markdown",
   "metadata": {},
   "source": [
    "### 1.2 URL & Artist Link"
   ]
  },
  {
   "cell_type": "code",
   "execution_count": 4,
   "metadata": {},
   "outputs": [],
   "source": [
    "# main url\n",
    "url = 'http://www.darklyrics.com/'\n",
    "\n",
    "#header for request\n",
    "headers = {\"User-Agent\": \"Mozilla/5.0 (Macintosh; Intel Mac OS X 10_15_7) AppleWebKit/537.36 (KHTML, like Gecko) Chrome/86.0.4240.198 Safari/537.36\"}\n",
    "\n",
    "#artist sublink\n",
    "artist_sublink = {'Dio':'d/dio.html', 'Ozzy':'o/ozzyosbourne.html'}"
   ]
  },
  {
   "cell_type": "markdown",
   "metadata": {},
   "source": [
    "## 2. User Defined Functions"
   ]
  },
  {
   "cell_type": "code",
   "execution_count": 5,
   "metadata": {},
   "outputs": [],
   "source": [
    "# function for extracting album hyperlinks for an artist\n",
    "\n",
    "def album_links(artist):\n",
    "    \"\"\"\n",
    "    This function returns all the album sublinks of an artist. \n",
    "    \"\"\"\n",
    "    artist_link = url + artist_sublink[artist]\n",
    "    html_content = requests.get(artist_link,headers=headers).text\n",
    "    html_soup = BeautifulSoup(html_content,'html.parser')\n",
    "    \n",
    "    sublinks = []\n",
    "    html_links = html_soup.find_all('div', class_= 'album')\n",
    "    for html_link in html_links:\n",
    "        sublink = html_link.a['href']\n",
    "        sublinks.append(re.findall('(lyrics.+)#\\de{,2}',sublink)[0])\n",
    "    \n",
    "    originals = [link for link in sublinks if 'tribute' not in link and 'live.html' not in link]\n",
    "\n",
    "    df_album = pd.DataFrame(data={'sublink':originals})\n",
    "    return df_album"
   ]
  },
  {
   "cell_type": "code",
   "execution_count": 6,
   "metadata": {},
   "outputs": [],
   "source": [
    "# function for collecting all the song lines of an album\n",
    "\n",
    "def album_song_lines(album_link):\n",
    "    \"\"\"\n",
    "    This function returns song lines for an album link \n",
    "    \"\"\"\n",
    "    album_content = requests.get(album_link,headers=headers).text\n",
    "    album_soup = BeautifulSoup(album_content,'html.parser')\n",
    "\n",
    "    lyrics_tn = album_soup.find('div', class_= 'lyrics').text\n",
    "    \n",
    "    note_div = album_soup.find('div',class_='note')\n",
    "    if note_div!=None:\n",
    "        note = note_div.text\n",
    "        lyrics_t = re.sub(note,'',lyrics_tn)\n",
    "    else:\n",
    "        lyrics_t = lyrics_tn\n",
    "    \n",
    "    thank_div = album_soup.find('div',class_='thanks')\n",
    "    if thank_div!=None:\n",
    "        thanks = thank_div.text\n",
    "        lyrics = re.sub(thanks,'',lyrics_t)\n",
    "    else:\n",
    "        lyrics = lyrics_t\n",
    "\n",
    "    title_pattern = '<h3><a name=\"\\d{,2}\">(.+)</a></h3>'\n",
    "    title_list = re.findall(title_pattern,album_content)\n",
    "    album_lines = [line for line in lyrics.split('\\n')[:-2] if line not in title_list and len(line)>0 and '[' not in line] \n",
    "\n",
    "    return album_lines"
   ]
  },
  {
   "cell_type": "code",
   "execution_count": 7,
   "metadata": {},
   "outputs": [],
   "source": [
    "# function for for collecting all song lines from all albums of an artist\n",
    "\n",
    "def all_song_lines(artist):\n",
    "    \"\"\"\n",
    "    This function downloads all song lines of an artist\n",
    "    \"\"\"\n",
    "    albums = album_links(artist)\n",
    "    song_lines = []\n",
    "    for sublink in albums['sublink']:\n",
    "        album_link = url + sublink\n",
    "        album_lines = album_song_lines(album_link)\n",
    "        song_lines.extend(album_lines)\n",
    "        time.sleep(5)\n",
    "    \n",
    "    return song_lines"
   ]
  },
  {
   "cell_type": "markdown",
   "metadata": {},
   "source": [
    "## 3. Dataset Preparation"
   ]
  },
  {
   "cell_type": "markdown",
   "metadata": {},
   "source": [
    "#### Song Line Collection"
   ]
  },
  {
   "cell_type": "code",
   "execution_count": 8,
   "metadata": {},
   "outputs": [],
   "source": [
    "# Ronnie James Dio\n",
    "dio_song_lines = all_song_lines('Dio')\n",
    "\n",
    "# Ozzy Osbourne\n",
    "ozzy_song_lines = all_song_lines('Ozzy')"
   ]
  },
  {
   "cell_type": "code",
   "execution_count": 11,
   "metadata": {},
   "outputs": [
    {
     "name": "stdout",
     "output_type": "stream",
     "text": [
      "Dio: 3612, Ozzy: 5399\n"
     ]
    }
   ],
   "source": [
    "# count respective total song lines\n",
    "print(f'Dio: {len(dio_song_lines)}, Ozzy: {len(ozzy_song_lines)}')"
   ]
  },
  {
   "cell_type": "markdown",
   "metadata": {},
   "source": [
    "#### Corpus Creation"
   ]
  },
  {
   "cell_type": "code",
   "execution_count": 12,
   "metadata": {},
   "outputs": [
    {
     "name": "stdout",
     "output_type": "stream",
     "text": [
      "corpus: 9011 lines\n"
     ]
    }
   ],
   "source": [
    "# stack individual song lines\n",
    "corpus = dio_song_lines.copy()\n",
    "corpus.extend(ozzy_song_lines)\n",
    "print(f'corpus: {len(corpus)} lines')"
   ]
  },
  {
   "cell_type": "markdown",
   "metadata": {},
   "source": [
    "#### Label Creation"
   ]
  },
  {
   "cell_type": "code",
   "execution_count": 13,
   "metadata": {},
   "outputs": [
    {
     "name": "stdout",
     "output_type": "stream",
     "text": [
      "Dio: 3612, Ozzy: 5399\n"
     ]
    }
   ],
   "source": [
    "# create individual labels\n",
    "dio_label  = ['Dio' for _ in range(len(dio_song_lines))]\n",
    "ozzy_label = ['Ozzy' for _ in range(len(ozzy_song_lines))]\n",
    "\n",
    "# count respective labels\n",
    "print(f'Dio: {len(dio_label)}, Ozzy: {len(ozzy_label)}')"
   ]
  },
  {
   "cell_type": "code",
   "execution_count": 14,
   "metadata": {},
   "outputs": [
    {
     "name": "stdout",
     "output_type": "stream",
     "text": [
      "label: 9011 lines\n"
     ]
    }
   ],
   "source": [
    "# stack individual labes\n",
    "artist = dio_label.copy()\n",
    "artist.extend(ozzy_label)\n",
    "print(f'label: {len(artist)} lines')"
   ]
  },
  {
   "cell_type": "markdown",
   "metadata": {},
   "source": [
    "#### Dataframe"
   ]
  },
  {
   "cell_type": "code",
   "execution_count": 15,
   "metadata": {},
   "outputs": [],
   "source": [
    "# create dataframe\n",
    "df = pd.DataFrame(data={'line':corpus, 'artist':artist})"
   ]
  },
  {
   "cell_type": "code",
   "execution_count": 16,
   "metadata": {},
   "outputs": [
    {
     "data": {
      "text/html": [
       "<div>\n",
       "<style scoped>\n",
       "    .dataframe tbody tr th:only-of-type {\n",
       "        vertical-align: middle;\n",
       "    }\n",
       "\n",
       "    .dataframe tbody tr th {\n",
       "        vertical-align: top;\n",
       "    }\n",
       "\n",
       "    .dataframe thead th {\n",
       "        text-align: right;\n",
       "    }\n",
       "</style>\n",
       "<table border=\"1\" class=\"dataframe\">\n",
       "  <thead>\n",
       "    <tr style=\"text-align: right;\">\n",
       "      <th></th>\n",
       "      <th>line</th>\n",
       "      <th>artist</th>\n",
       "    </tr>\n",
       "  </thead>\n",
       "  <tbody>\n",
       "    <tr>\n",
       "      <th>0</th>\n",
       "      <td>It's the same old song</td>\n",
       "      <td>Dio</td>\n",
       "    </tr>\n",
       "    <tr>\n",
       "      <th>1</th>\n",
       "      <td>you gotta be somewhere at sometime</td>\n",
       "      <td>Dio</td>\n",
       "    </tr>\n",
       "    <tr>\n",
       "      <th>2</th>\n",
       "      <td>and they'll never let you fly</td>\n",
       "      <td>Dio</td>\n",
       "    </tr>\n",
       "    <tr>\n",
       "      <th>3</th>\n",
       "      <td>It's like broken glass</td>\n",
       "      <td>Dio</td>\n",
       "    </tr>\n",
       "    <tr>\n",
       "      <th>4</th>\n",
       "      <td>you get cut before you see it</td>\n",
       "      <td>Dio</td>\n",
       "    </tr>\n",
       "  </tbody>\n",
       "</table>\n",
       "</div>"
      ],
      "text/plain": [
       "                                 line artist\n",
       "0              It's the same old song    Dio\n",
       "1  you gotta be somewhere at sometime    Dio\n",
       "2       and they'll never let you fly    Dio\n",
       "3              It's like broken glass    Dio\n",
       "4       you get cut before you see it    Dio"
      ]
     },
     "execution_count": 16,
     "metadata": {},
     "output_type": "execute_result"
    }
   ],
   "source": [
    "# dataframe quick check: head\n",
    "df.head()"
   ]
  },
  {
   "cell_type": "code",
   "execution_count": 17,
   "metadata": {},
   "outputs": [
    {
     "data": {
      "text/html": [
       "<div>\n",
       "<style scoped>\n",
       "    .dataframe tbody tr th:only-of-type {\n",
       "        vertical-align: middle;\n",
       "    }\n",
       "\n",
       "    .dataframe tbody tr th {\n",
       "        vertical-align: top;\n",
       "    }\n",
       "\n",
       "    .dataframe thead th {\n",
       "        text-align: right;\n",
       "    }\n",
       "</style>\n",
       "<table border=\"1\" class=\"dataframe\">\n",
       "  <thead>\n",
       "    <tr style=\"text-align: right;\">\n",
       "      <th></th>\n",
       "      <th>line</th>\n",
       "      <th>artist</th>\n",
       "    </tr>\n",
       "  </thead>\n",
       "  <tbody>\n",
       "    <tr>\n",
       "      <th>9006</th>\n",
       "      <td>And I don't walk on water (oh no)</td>\n",
       "      <td>Ozzy</td>\n",
       "    </tr>\n",
       "    <tr>\n",
       "      <th>9007</th>\n",
       "      <td>I don't walk on water (oh no)</td>\n",
       "      <td>Ozzy</td>\n",
       "    </tr>\n",
       "    <tr>\n",
       "      <th>9008</th>\n",
       "      <td>My dromedary dreams as wet as oceans</td>\n",
       "      <td>Ozzy</td>\n",
       "    </tr>\n",
       "    <tr>\n",
       "      <th>9009</th>\n",
       "      <td>With sand dunes bearing seeds she set in motion</td>\n",
       "      <td>Ozzy</td>\n",
       "    </tr>\n",
       "    <tr>\n",
       "      <th>9010</th>\n",
       "      <td>My dromedary dreams my dromedary dreams my dro...</td>\n",
       "      <td>Ozzy</td>\n",
       "    </tr>\n",
       "  </tbody>\n",
       "</table>\n",
       "</div>"
      ],
      "text/plain": [
       "                                                   line artist\n",
       "9006                  And I don't walk on water (oh no)   Ozzy\n",
       "9007                      I don't walk on water (oh no)   Ozzy\n",
       "9008              My dromedary dreams as wet as oceans    Ozzy\n",
       "9009   With sand dunes bearing seeds she set in motion    Ozzy\n",
       "9010  My dromedary dreams my dromedary dreams my dro...   Ozzy"
      ]
     },
     "execution_count": 17,
     "metadata": {},
     "output_type": "execute_result"
    }
   ],
   "source": [
    "# dataframe quick check: tail\n",
    "df.tail()"
   ]
  },
  {
   "cell_type": "markdown",
   "metadata": {},
   "source": [
    "#### CSV File"
   ]
  },
  {
   "cell_type": "code",
   "execution_count": 19,
   "metadata": {},
   "outputs": [],
   "source": [
    "# save dataset as csv file\n",
    "df.to_csv('songlines.csv',index=False)"
   ]
  },
  {
   "cell_type": "markdown",
   "metadata": {},
   "source": [
    "## 4. Fun Explorations"
   ]
  },
  {
   "cell_type": "markdown",
   "metadata": {},
   "source": [
    "#### Total Dio albums"
   ]
  },
  {
   "cell_type": "code",
   "execution_count": 20,
   "metadata": {},
   "outputs": [
    {
     "name": "stdout",
     "output_type": "stream",
     "text": [
      "Dio albums: 14\n"
     ]
    }
   ],
   "source": [
    "dio_albums = album_links('Dio')\n",
    "print(f'Dio albums: {dio_albums.shape[0]}')"
   ]
  },
  {
   "cell_type": "markdown",
   "metadata": {},
   "source": [
    "#### Total Ozzy albums"
   ]
  },
  {
   "cell_type": "code",
   "execution_count": 21,
   "metadata": {},
   "outputs": [
    {
     "name": "stdout",
     "output_type": "stream",
     "text": [
      "Ozzy albums: 16\n"
     ]
    }
   ],
   "source": [
    "ozzy_albums = album_links('Ozzy')\n",
    "print(f'Ozzy albums: {ozzy_albums.shape[0]}')"
   ]
  },
  {
   "cell_type": "markdown",
   "metadata": {},
   "source": [
    "Comment: We have excluded 'Live' and 'Tribute' albums to avoid song repetation"
   ]
  }
 ],
 "metadata": {
  "kernelspec": {
   "display_name": "Python 3 (ipykernel)",
   "language": "python",
   "name": "python3"
  },
  "language_info": {
   "codemirror_mode": {
    "name": "ipython",
    "version": 3
   },
   "file_extension": ".py",
   "mimetype": "text/x-python",
   "name": "python",
   "nbconvert_exporter": "python",
   "pygments_lexer": "ipython3",
   "version": "3.9.7"
  }
 },
 "nbformat": 4,
 "nbformat_minor": 4
}
